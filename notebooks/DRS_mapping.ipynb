{
 "cells": [
  {
   "cell_type": "markdown",
   "id": "4c6d2f56",
   "metadata": {},
   "source": [
    "# DRS Mapping\n",
    "Use IsoQuant software to align DRS data to the genome, calibrate it based on second-generation sequencing, and then obtain transcript boundary information.\n",
    "\n",
    "<zh>使用 IsoQuant 软件把 DRS 数据比对到基因组上，并且根据二代测序进行校准，然后获取转录本边界信息。</zh>"
   ]
  },
  {
   "cell_type": "code",
   "execution_count": null,
   "id": "af4c83ca",
   "metadata": {},
   "outputs": [
    {
     "name": "stderr",
     "output_type": "stream",
     "text": [
      "\u001b[32m2025-10-15 18:54:02.334\u001b[0m | \u001b[1mINFO    \u001b[0m | \u001b[36mspider_silkome_module.config\u001b[0m:\u001b[36m<module>\u001b[0m:\u001b[36m11\u001b[0m - \u001b[1mPROJ_ROOT path is: /home/gyk/project/spider_silkome\u001b[0m\n"
     ]
    }
   ],
   "source": [
    "import os\n",
    "import subprocess\n",
    "\n",
    "from spider_silkome_module import (\n",
    "    RAW_DATA_DIR,\n",
    "    INTERIM_DATA_DIR,\n",
    "    PROCESSED_DATA_DIR,\n",
    "    PROJ_ROOT\n",
    ")\n",
    "from spider_silkome_module import (\n",
    "    run_shell_command_with_check,\n",
    ")\n",
    "\n",
    "from spider_silkome_module import (\n",
    "    GeneralGFF,\n",
    ")"
   ]
  },
  {
   "cell_type": "markdown",
   "id": "b5812362",
   "metadata": {},
   "source": [
    "## Create Genome STAR index\n",
    "\n",
    "Note: STAR needs to be installed in advance. Download link: https://github.com/alexdobin/STAR\n",
    "\n",
    "<zh>注意：需要提前安装好 STAR，下载地址：https://github.com/alexdobin/STAR</zh>"
   ]
  },
  {
   "cell_type": "code",
   "execution_count": 4,
   "id": "4b161cf2",
   "metadata": {},
   "outputs": [
    {
     "name": "stdout",
     "output_type": "stream",
     "text": [
      "\tSTAR --runThreadN 70 --runMode genomeGenerate --genomeDir /home/gyk/project/spider_silkome/data/interim/star_index/Trichonephila_clavata --genomeFastaFiles /home/gyk/project/spider_silkome/data/raw/spider_genome/Trichonephila_clavata.fa\n",
      "\tSTAR version: 2.7.11b   compiled: 2024-01-25T16:12:02-05:00 :/home/dobin/data/STAR/STARcode/STAR.master/source\n",
      "Oct 15 18:56:54 ..... started STAR run\n",
      "Oct 15 18:56:54 ... starting to generate Genome files\n",
      "Oct 15 18:58:02 ... starting to sort Suffix Array. This may take a long time...\n",
      "Oct 15 18:58:19 ... sorting Suffix Array chunks and saving them to disk...\n",
      "Oct 15 19:08:40 ... loading chunks from disk, packing SA...\n",
      "Oct 15 19:10:04 ... finished generating suffix array\n",
      "Oct 15 19:10:04 ... generating Suffix Array index\n",
      "Oct 15 19:14:07 ... completed Suffix Array index\n",
      "Oct 15 19:14:07 ... writing Genome to disk ...\n",
      "Oct 15 19:14:09 ... writing Suffix Array to disk ...\n",
      "Oct 15 19:14:28 ... writing SAindex to disk\n",
      "Oct 15 19:14:30 ..... finished successfully\n"
     ]
    },
    {
     "data": {
      "text/plain": [
       "CompletedProcess(args='STAR --runThreadN 70 --runMode genomeGenerate --genomeDir /home/gyk/project/spider_silkome/data/interim/star_index/Trichonephila_clavata --genomeFastaFiles /home/gyk/project/spider_silkome/data/raw/spider_genome/Trichonephila_clavata.fa', returncode=0)"
      ]
     },
     "execution_count": 4,
     "metadata": {},
     "output_type": "execute_result"
    }
   ],
   "source": [
    "genome_file = f\"{RAW_DATA_DIR}/spider_genome/Trichonephila_clavata.fa\"\n",
    "spider = \"Trichonephila_clavata\"\n",
    "genome_index_dir = f\"{INTERIM_DATA_DIR}/star_index/{spider}\"\n",
    "os.makedirs(genome_index_dir, exist_ok=True)\n",
    "star_index_cmd = f\"STAR --runThreadN 70 --runMode genomeGenerate --genomeDir {genome_index_dir} --genomeFastaFiles {genome_file}\"\n",
    "subprocess.run(star_index_cmd, shell=True)"
   ]
  },
  {
   "cell_type": "markdown",
   "id": "84f90231",
   "metadata": {},
   "source": [
    "## Creat BGI RNA-seq Bam files\n",
    "\n",
    "**Note:** Maker sure the nextflow was installed in your system.\n",
    "\n",
    "In this section, we use nf-core/rnaseq to create Bam files for DRS data.\n",
    "\n",
    "Please prepare `nf-params.json` and `samplesheet.csv` file in `RNA-seq_workflow` directory according the [nf-core/rnaseq document](https://nf-co.re/rnaseq).\n",
    "\n",
    "Run `nextflow run nf-core/rnaseq -r 3.19.0 -name BGI_RNA-seq -profile docker -params-file nf-params.json` in `RNA-seq_workflow` directory."
   ]
  },
  {
   "cell_type": "markdown",
   "id": "2c92e50e",
   "metadata": {},
   "source": [
    "## DRS Mapping"
   ]
  },
  {
   "cell_type": "code",
   "execution_count": null,
   "id": "a780944e",
   "metadata": {},
   "outputs": [],
   "source": [
    "bam_file = f\"{PROJ_ROOT}/RNA-seq_workflow/results/\"\n",
    "isoquant_output_dir = f\"{INTERIM_DATA_DIR}/03.DRS_mapping/isoquant\"\n",
    "os.makedirs(isoquant_output_dir, exist_ok=True)\n",
    "isoquant_cmd = f\"isoquant --reference {genome_file} --bam {bam_file} --data_type nanopore -o {isoquant_output_dir}\""
   ]
  }
 ],
 "metadata": {
  "kernelspec": {
   "display_name": "default",
   "language": "python",
   "name": "python3"
  },
  "language_info": {
   "codemirror_mode": {
    "name": "ipython",
    "version": 3
   },
   "file_extension": ".py",
   "mimetype": "text/x-python",
   "name": "python",
   "nbconvert_exporter": "python",
   "pygments_lexer": "ipython3",
   "version": "3.10.18"
  }
 },
 "nbformat": 4,
 "nbformat_minor": 5
}
