{
 "cells": [
  {
   "cell_type": "markdown",
   "id": "eeb5c54c",
   "metadata": {},
   "source": [
    "# Spidroin curation\n",
    "设置需要用到的 Python 包"
   ]
  },
  {
   "cell_type": "code",
   "execution_count": 2,
   "id": "9237d955",
   "metadata": {},
   "outputs": [],
   "source": [
    "import os"
   ]
  },
  {
   "cell_type": "markdown",
   "id": "8323d0bc",
   "metadata": {},
   "source": [
    "设置工作目录："
   ]
  },
  {
   "cell_type": "code",
   "execution_count": 5,
   "id": "50764aa7",
   "metadata": {},
   "outputs": [
    {
     "data": {
      "text/plain": [
       "'/home/gyk/project/spider_silkome'"
      ]
     },
     "execution_count": 5,
     "metadata": {},
     "output_type": "execute_result"
    }
   ],
   "source": [
    "# 查看当前路径\n",
    "os.getcwd()\n",
    "\n",
    "# 设置工作目录\n",
    "os.chdir(\"/home/gyk/project/spider_silkome\")\n",
    "os.getcwd()"
   ]
  },
  {
   "cell_type": "markdown",
   "id": "0201bd95",
   "metadata": {},
   "source": [
    "定义相关数据的路径"
   ]
  },
  {
   "cell_type": "code",
   "execution_count": 6,
   "id": "2535d457",
   "metadata": {},
   "outputs": [],
   "source": [
    "spider_species_file = \"data/external/organisms.csv\"\n",
    "mechanical_properties_file = \"data/external/mechanical_properties.csv\"\n",
    "spidroin_fasta_file = \"data/external/spider-silkome-database.v1.prot.fasta\""
   ]
  },
  {
   "cell_type": "markdown",
   "id": "5ced2218",
   "metadata": {},
   "source": [
    "根据物种名拆分丝蛋白序列"
   ]
  },
  {
   "cell_type": "code",
   "execution_count": null,
   "id": "24b4cfeb",
   "metadata": {},
   "outputs": [],
   "source": []
  }
 ],
 "metadata": {
  "kernelspec": {
   "display_name": "default",
   "language": "python",
   "name": "python3"
  },
  "language_info": {
   "codemirror_mode": {
    "name": "ipython",
    "version": 3
   },
   "file_extension": ".py",
   "mimetype": "text/x-python",
   "name": "python",
   "nbconvert_exporter": "python",
   "pygments_lexer": "ipython3",
   "version": "3.10.18"
  }
 },
 "nbformat": 4,
 "nbformat_minor": 5
}
