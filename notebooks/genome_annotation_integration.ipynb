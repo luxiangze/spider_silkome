{
 "cells": [
  {
   "cell_type": "markdown",
   "id": "ab054810",
   "metadata": {},
   "source": [
    "# Genome Annotation Integration\n",
    "\n",
    "Integrate the annotation information of high-quality genomes with the manually modified spidroin GFF file.\n",
    "\n",
    "<zh>使用高质量基因组的注释信息，与人工修改好的蛛丝蛋白 GFF 文件进行整合。</zh>"
   ]
  },
  {
   "cell_type": "code",
   "execution_count": 1,
   "id": "6375cbce",
   "metadata": {},
   "outputs": [
    {
     "name": "stderr",
     "output_type": "stream",
     "text": [
      "\u001b[32m2025-10-14 19:12:15.890\u001b[0m | \u001b[1mINFO    \u001b[0m | \u001b[36mspider_silkome_module.config\u001b[0m:\u001b[36m<module>\u001b[0m:\u001b[36m11\u001b[0m - \u001b[1mPROJ_ROOT path is: /home/gyk/project/spider_silkome\u001b[0m\n"
     ]
    }
   ],
   "source": [
    "import os\n",
    "from pybedtools import BedTool\n",
    "\n",
    "\n",
    "from spider_silkome_module import (\n",
    "    RAW_DATA_DIR,\n",
    "    INTERIM_DATA_DIR,\n",
    "    EXTERNAL_DATA_DIR,\n",
    "    PROCESSED_DATA_DIR\n",
    ")\n",
    "from spider_silkome_module import (\n",
    "    run_shell_command_with_check,\n",
    "    extract_positions_from_gff,\n",
    "    positions_export\n",
    ")\n",
    "\n",
    "from spider_silkome_module import (\n",
    "    GeneralGFF,\n",
    ")"
   ]
  },
  {
   "cell_type": "markdown",
   "id": "97c779b2",
   "metadata": {},
   "source": [
    "<zh>定义相关文件</zh>"
   ]
  },
  {
   "cell_type": "code",
   "execution_count": 2,
   "id": "f252923a",
   "metadata": {},
   "outputs": [],
   "source": [
    "fixed_miniprot_gff_path = f\"{PROCESSED_DATA_DIR}/02.manual_curation\"\n",
    "spider_genome_path = f\"{RAW_DATA_DIR}/spider_genome\"\n",
    "final_output_dir = f\"{PROCESSED_DATA_DIR}/03.genome_annotation_integration\"\n",
    "interim_dir = f\"{INTERIM_DATA_DIR}/02.manual_curation\"\n",
    "os.makedirs(final_output_dir, exist_ok=True)\n",
    "os.makedirs(interim_dir, exist_ok=True)"
   ]
  },
  {
   "cell_type": "code",
   "execution_count": 7,
   "id": "ed126987",
   "metadata": {},
   "outputs": [
    {
     "name": "stdout",
     "output_type": "stream",
     "text": [
      "\u001b[32m2025-10-14 19:20:27.083\u001b[0m | \u001b[1mINFO    \u001b[0m | \u001b[36mspider_silkome_module.features\u001b[0m:\u001b[36mrun_shell_command_with_check\u001b[0m:\u001b[36m46\u001b[0m - \u001b[1mThe output file already exists, skipping execution: /home/gyk/project/spider_silkome/data/interim/02.manual_curation/Trichonephila_clavata_gene.gff\u001b[0m\n"
     ]
    }
   ],
   "source": [
    "fixed_miniprot_gffs = [f for f in os.listdir(fixed_miniprot_gff_path) if f.endswith(\".gff\")]\n",
    "for fixed_miniprot_gff in fixed_miniprot_gffs:\n",
    "    spider = fixed_miniprot_gff.split(\".\")[0]\n",
    "    fixed_miniprot_gff_file = f\"{fixed_miniprot_gff_path}/{fixed_miniprot_gff}\"\n",
    "    genome_gff_file = f\"{spider_genome_path}/{spider}.gff\"\n",
    "    gene_grep_cmd = f\"grep -E 'gene' {genome_gff_file} | sort -k1,1V -k4,4n > {interim_dir}/{spider}_gene.gff\"\n",
    "    run_shell_command_with_check(gene_grep_cmd, f\"{interim_dir}/{spider}_gene.gff\")\n",
    "    spridroin_gff = GeneralGFF.parse_gff_file(fixed_miniprot_gff_file)\n",
    "    GeneralGFF.split_by_custom_str(\n",
    "        spridroin_gff,\n",
    "        [\"no_start\", \"no_end\"],\n",
    "        f\"{interim_dir}/{spider}_SE_Sp.gff\",\n",
    "        f\"{interim_dir}/{spider}_no_SE_Sp.gff\"\n",
    "    )\n",
    "    gene_gff = BedTool(f\"{interim_dir}/{spider}_gene.gff\")\n",
    "    se_gff = BedTool(f\"{interim_dir}/{spider}_SE_Sp.gff\")\n",
    "    no_se_gff = BedTool(f\"{interim_dir}/{spider}_no_SE_Sp.gff\")\n",
    "    se_intersect = se_gff.intersect(gene_gff, wa=True, wb=True)\n",
    "    no_se_intersect = no_se_gff.intersect(gene_gff, wa=True, wb=True)\n",
    "    se_intersect.saveas(f\"{interim_dir}/{spider}_SE_Sp_INTERSECT.gff\")\n",
    "    no_se_intersect.saveas(f\"{interim_dir}/{spider}_no_SE_Sp_INTERSECT.gff\")\n",
    "    spidroin_with_gnome_gffs_confident = {}\n",
    "    spidroin_with_gnome_gffs_no_confidence = []\n",
    "    spidroin_with_gnome_gffs_unconfirmed = []\n",
    "    for gene in se_intersect:\n",
    "        record = str(gene).split(\"\\t\")\n",
    "        if record[8].endswith(\"no_start\") and  int(record[13]) - 500 <= int(record[4]) <= int(record[13]):\n",
    "            gene_ID = record[17].split(\"=\")[-1]\n",
    "            confident_gene = \"\\t\".join(\n",
    "                record[:3] +\n",
    "                record[12:14] +\n",
    "                record[5:8] +\n",
    "                [record[8].replace(\"no_start\", f\"gene_id={gene_ID}\")]\n",
    "            )\n",
    "            confident_gene_key = (record[0], record[12], record[13])\n",
    "            if confident_gene_key in spidroin_with_gnome_gffs_confident:\n",
    "                continue\n",
    "            spidroin_with_gnome_gffs_confident[confident_gene_key] = confident_gene\n",
    "        elif record[8].endswith(\"no_start\") and int(record[12]) - 500 < int(record[4]) < int(record[13]) + 500:\n",
    "            spidroin_with_gnome_gffs_no_confidence.append(record[:9])\n",
    "            spidroin_with_gnome_gffs_no_confidence.append(record[9:])\n",
    "        elif record[8].endswith(\"no_end\") and int(record[12]) >= int(record[3]) >= int(record[12]) + 500:\n",
    "            gene_ID = record[17].split(\"=\")[-1]\n",
    "            confident_gene = \"\\t\".join([\n",
    "                record[:3] +\n",
    "                record[12:14] +\n",
    "                record[5:8] +\n",
    "                [record[8].replace(\"no_end\", f\"gene_id={gene_ID}\")]\n",
    "            ])\n",
    "            confident_gene_key = (record[0], record[12], record[13])\n",
    "            if confident_gene_key in spidroin_with_gnome_gffs_confident:\n",
    "                continue\n",
    "            spidroin_with_gnome_gffs_confident[confident_gene_key] = confident_gene\n",
    "        elif record[8].endswith(\"no_end\") and int(record[12]) + 500 < int(record[3]) < int(record[13]) - 500:\n",
    "            spidroin_with_gnome_gffs_no_confidence.append(record[:9])\n",
    "            spidroin_with_gnome_gffs_no_confidence.append(record[9:])\n",
    "        else:\n",
    "            spidroin_with_gnome_gffs_unconfirmed.append(record[:9])\n",
    "            spidroin_with_gnome_gffs_unconfirmed.append(record[9:])\n",
    "\n",
    "    # file write\n",
    "    with open(f\"{interim_dir}/{spider}_spidroin_with_gnome.gff\", \"w\") as f:\n",
    "        for gene in spidroin_with_gnome_gffs_confident.values():\n",
    "            f.write(gene)\n",
    "    with open(f\"{interim_dir}/{spider}_spidroin_with_gnome_no_confidence.gff\", \"w\") as f:\n",
    "        for gene in spidroin_with_gnome_gffs_no_confidence:\n",
    "            f.write(\"\\t\".join(gene) + \"\\n\")\n",
    "    with open(f\"{interim_dir}/{spider}_spidroin_with_gnome_unconfirmed.gff\", \"w\") as f:\n",
    "        for gene in spidroin_with_gnome_gffs_unconfirmed:\n",
    "            f.write(\"\\t\".join(gene))\n"
   ]
  },
  {
   "cell_type": "markdown",
   "id": "8d326b29",
   "metadata": {},
   "source": [
    "手动整理 miniprot 和基因组注释 intersect 结果:\n",
    "- 有时候 GFF 的注释结果比较准确，能够准确的和 miniprot 的结果进行匹配，比如 no_start 条目的 end 位置和基因组注释的一模一样，那么就可以确认这个位置就是对应的 Spidroin 基因。\n",
    "- 有时候 GFF 的注释结果和 miniprot 的结果差别太大，那么需要保留下来然后结果 DRS 的数据，看是否能够找到对应的 Spidroin 基因。\n"
   ]
  }
 ],
 "metadata": {
  "kernelspec": {
   "display_name": "default",
   "language": "python",
   "name": "python3"
  },
  "language_info": {
   "codemirror_mode": {
    "name": "ipython",
    "version": 3
   },
   "file_extension": ".py",
   "mimetype": "text/x-python",
   "name": "python",
   "nbconvert_exporter": "python",
   "pygments_lexer": "ipython3",
   "version": "3.10.18"
  }
 },
 "nbformat": 4,
 "nbformat_minor": 5
}
